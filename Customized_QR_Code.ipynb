{
  "nbformat": 4,
  "nbformat_minor": 0,
  "metadata": {
    "colab": {
      "provenance": [],
      "authorship_tag": "ABX9TyMEa8JlH6kFvUAO6TKLzleV",
      "include_colab_link": true
    },
    "kernelspec": {
      "name": "python3",
      "display_name": "Python 3"
    },
    "language_info": {
      "name": "python"
    }
  },
  "cells": [
    {
      "cell_type": "markdown",
      "metadata": {
        "id": "view-in-github",
        "colab_type": "text"
      },
      "source": [
        "<a href=\"https://colab.research.google.com/github/hibameo/python_Customized-QR-Code/blob/main/Customized_QR_Code.ipynb\" target=\"_parent\"><img src=\"https://colab.research.google.com/assets/colab-badge.svg\" alt=\"Open In Colab\"/></a>"
      ]
    },
    {
      "source": [
        "!pip install qrcode"
      ],
      "cell_type": "code",
      "metadata": {
        "colab": {
          "base_uri": "https://localhost:8080/"
        },
        "id": "3Dt2oMtb8nNU",
        "outputId": "b067f738-c817-4056-a0e4-4d995d95d77f"
      },
      "execution_count": 2,
      "outputs": [
        {
          "output_type": "stream",
          "name": "stdout",
          "text": [
            "Collecting qrcode\n",
            "  Downloading qrcode-8.0-py3-none-any.whl.metadata (17 kB)\n",
            "Downloading qrcode-8.0-py3-none-any.whl (45 kB)\n",
            "\u001b[?25l   \u001b[90m━━━━━━━━━━━━━━━━━━━━━━━━━━━━━━━━━━━━━━━━\u001b[0m \u001b[32m0.0/45.7 kB\u001b[0m \u001b[31m?\u001b[0m eta \u001b[36m-:--:--\u001b[0m\r\u001b[2K   \u001b[90m━━━━━━━━━━━━━━━━━━━━━━━━━━━━━━━━━━━━━━━━\u001b[0m \u001b[32m45.7/45.7 kB\u001b[0m \u001b[31m1.7 MB/s\u001b[0m eta \u001b[36m0:00:00\u001b[0m\n",
            "\u001b[?25hInstalling collected packages: qrcode\n",
            "Successfully installed qrcode-8.0\n"
          ]
        }
      ]
    },
    {
      "cell_type": "code",
      "execution_count": 3,
      "metadata": {
        "colab": {
          "base_uri": "https://localhost:8080/"
        },
        "id": "vgTVBnPW8d5z",
        "outputId": "d77f02d8-99cb-40a9-c486-cfc3ceb80c48"
      },
      "outputs": [
        {
          "output_type": "stream",
          "name": "stdout",
          "text": [
            "Enter text or URL for QR Code: https://www.youtube.com/feed/playlists\n",
            "Custom QR Code saved as custom_qrcode.png\n"
          ]
        }
      ],
      "source": [
        "import qrcode\n",
        "from PIL import Image\n",
        "\n",
        "def generate_custom_qr(data, filename=\"custom_qr.png\", fill_color=\"blue\", back_color=\"white\"):\n",
        "    qr = qrcode.QRCode(version=1, box_size=10, border=5)\n",
        "    qr.add_data(data)\n",
        "    qr.make(fit=True)\n",
        "\n",
        "    img = qr.make_image(fill=fill_color, back_color=back_color)\n",
        "    img.save(filename)\n",
        "    print(f\"Custom QR Code saved as {filename}\")\n",
        "\n",
        "# Input lo aur customized QR banao\n",
        "data = input(\"Enter text or URL for QR Code: \")\n",
        "generate_custom_qr(data, \"custom_qrcode.png\", fill_color=\"darkblue\", back_color=\"lightyellow\")\n"
      ]
    }
  ]
}